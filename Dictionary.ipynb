{
 "cells": [
  {
   "cell_type": "markdown",
   "metadata": {},
   "source": [
    "## Dictionary"
   ]
  },
  {
   "cell_type": "code",
   "execution_count": 78,
   "metadata": {},
   "outputs": [
    {
     "data": {
      "text/plain": [
       "2"
      ]
     },
     "execution_count": 78,
     "metadata": {},
     "output_type": "execute_result"
    }
   ],
   "source": [
    "people_info = {'성':'홍','이름':'길동','직장':'강남'}\n",
    "people_info_list = [{'성':'홍','이름':'길동','직장':'강남'},{'성':'김','이름':'호경','직장':'메롱'}]\n",
    "len (people_info_list)"
   ]
  },
  {
   "cell_type": "code",
   "execution_count": 87,
   "metadata": {},
   "outputs": [
    {
     "name": "stdout",
     "output_type": "stream",
     "text": [
      "길동\n",
      "강남\n"
     ]
    }
   ],
   "source": [
    "people_info = {'성':'홍','이름':'길동','직장':'강남'}\n",
    "print(people_info['이름'])\n",
    "print(people_info['직장'])"
   ]
  },
  {
   "cell_type": "code",
   "execution_count": 89,
   "metadata": {},
   "outputs": [
    {
     "name": "stdout",
     "output_type": "stream",
     "text": [
      "dict_keys(['성', '이름', '직장'])\n"
     ]
    }
   ],
   "source": [
    "people_info = {'성':'홍','이름':'길동','직장':'강남'}\n",
    "print(people_info.keys())"
   ]
  },
  {
   "cell_type": "code",
   "execution_count": 90,
   "metadata": {},
   "outputs": [
    {
     "name": "stdout",
     "output_type": "stream",
     "text": [
      "dict_values(['홍', '길동', '강남'])\n"
     ]
    }
   ],
   "source": [
    "people_info = {'성':'홍','이름':'길동','직장':'강남'}\n",
    "print(people_info.values())"
   ]
  },
  {
   "cell_type": "code",
   "execution_count": 106,
   "metadata": {},
   "outputs": [
    {
     "ename": "TypeError",
     "evalue": "keys() takes no arguments (1 given)",
     "output_type": "error",
     "traceback": [
      "\u001b[1;31m-------------------------------------------------------------\u001b[0m",
      "\u001b[1;31mTypeError\u001b[0m                   Traceback (most recent call last)",
      "\u001b[1;32m<ipython-input-106-e458944ff626>\u001b[0m in \u001b[0;36m<module>\u001b[1;34m\u001b[0m\n\u001b[1;32m----> 1\u001b[1;33m \u001b[0mlist\u001b[0m \u001b[1;33m(\u001b[0m\u001b[0mpeople_info\u001b[0m\u001b[1;33m.\u001b[0m\u001b[0mkeys\u001b[0m\u001b[1;33m(\u001b[0m\u001b[1;36m1\u001b[0m\u001b[1;33m)\u001b[0m\u001b[1;33m)\u001b[0m\u001b[1;33m\u001b[0m\u001b[1;33m\u001b[0m\u001b[0m\n\u001b[0m",
      "\u001b[1;31mTypeError\u001b[0m: keys() takes no arguments (1 given)"
     ]
    }
   ],
   "source": [
    "list (people_info.keys(1))"
   ]
  },
  {
   "cell_type": "code",
   "execution_count": 104,
   "metadata": {},
   "outputs": [
    {
     "name": "stdout",
     "output_type": "stream",
     "text": [
      "{'성': '홍', '이름': '길동', '직장': '강남', '취미': '테니스'}\n"
     ]
    }
   ],
   "source": [
    "people_info = {'성':'홍','이름':'길동','직장':'강남'}\n",
    "people_info['취미']='테니스'\n",
    "print(people_info)"
   ]
  },
  {
   "cell_type": "markdown",
   "metadata": {},
   "source": [
    "## Dictionary 추가 및 편집"
   ]
  },
  {
   "cell_type": "code",
   "execution_count": 110,
   "metadata": {},
   "outputs": [
    {
     "name": "stdout",
     "output_type": "stream",
     "text": [
      "{'성': '홍', '이름': '길동', '직장': '강남', '취미': '테니스'}\n"
     ]
    }
   ],
   "source": [
    "people_info = {'성':'홍','이름':'길동','직장':'강남',}\n",
    "people_info['취미']='테니스'\n",
    "print(people_info)"
   ]
  },
  {
   "cell_type": "code",
   "execution_count": 109,
   "metadata": {},
   "outputs": [
    {
     "name": "stdout",
     "output_type": "stream",
     "text": [
      "{'성': '홍', '이름': '김호경', '직장': '강남'}\n"
     ]
    }
   ],
   "source": [
    "people_info = {'성':'홍','이름':'길동','직장':'강남'}\n",
    "people_info['이름']='김호경'\n",
    "print(people_info)"
   ]
  },
  {
   "cell_type": "code",
   "execution_count": 112,
   "metadata": {},
   "outputs": [
    {
     "name": "stdout",
     "output_type": "stream",
     "text": [
      "{'성': '홍', '이름': '길동'}\n"
     ]
    }
   ],
   "source": [
    "people_info = {'성':'홍','이름':'길동','직장':'강남',}\n",
    "del people_info['직장']\n",
    "print(people_info)"
   ]
  },
  {
   "cell_type": "code",
   "execution_count": 118,
   "metadata": {},
   "outputs": [
    {
     "data": {
      "text/plain": [
       "True"
      ]
     },
     "execution_count": 118,
     "metadata": {},
     "output_type": "execute_result"
    }
   ],
   "source": [
    "people_info = {'성':'홍','이름':'길동','직장':'강남',}\n",
    "'홍' in people_info['성']"
   ]
  },
  {
   "cell_type": "code",
   "execution_count": 120,
   "metadata": {},
   "outputs": [
    {
     "data": {
      "text/plain": [
       "True"
      ]
     },
     "execution_count": 120,
     "metadata": {},
     "output_type": "execute_result"
    }
   ],
   "source": [
    "people_info = {'성':'홍','이름':'길동','직장':'강남',}\n",
    "'김' not in people_info['성']"
   ]
  },
  {
   "cell_type": "markdown",
   "metadata": {},
   "source": [
    "### 딕셔너리 병합(update)"
   ]
  },
  {
   "cell_type": "code",
   "execution_count": 124,
   "metadata": {},
   "outputs": [
    {
     "name": "stdout",
     "output_type": "stream",
     "text": [
      "[{'성': '홍', '이름': '길동', '직장': '강남', '취미': '테니스'}, {'성': '김', '이름': '태경', '직장': '강북', '취미': '숨쉬기'}]\n"
     ]
    }
   ],
   "source": [
    "people_info_1 = {'성':'홍','이름':'길동','직장':'강남','취미':'테니스'}\n",
    "people_info_2 = {'성':'김','이름':'태경','직장':'강북','취미':'숨쉬기'}\n",
    "\n",
    "#people = people_info_1 + people_info_2 ->안됨\n",
    "\n",
    "people = []\n",
    "\n",
    "people.append(people_info_1)\n",
    "people.append(people_info_2)\n",
    "\n",
    "print(people)"
   ]
  },
  {
   "cell_type": "code",
   "execution_count": 126,
   "metadata": {},
   "outputs": [
    {
     "name": "stdout",
     "output_type": "stream",
     "text": [
      "{'성': '김', '이름': '태경', '직장': '강북', '취미': '숨쉬기'}\n"
     ]
    }
   ],
   "source": [
    "people_info_1 = {'성':'홍','이름':'길동','직장':'강남','취미':'테니스'}\n",
    "people_info_2 = {'성':'김','이름':'태경','직장':'강북','취미':'숨쉬기'}\n",
    "people_info_1.update(people_info_2)\n",
    "print(people_info_1)"
   ]
  },
  {
   "cell_type": "code",
   "execution_count": 127,
   "metadata": {},
   "outputs": [
    {
     "name": "stdout",
     "output_type": "stream",
     "text": [
      "{'성': '홍', '이름': '길동', '직장': '강남', '취미': '테니스', '태생': '김', '네임': '태경', '주소': '서울시', '신장': '거구'}\n"
     ]
    }
   ],
   "source": [
    "people_info_1 = {'성':'홍','이름':'길동','직장':'강남','취미':'테니스'}\n",
    "people_info_2 = {'태생':'김','네임':'태경','주소':'서울시','신장':'거구'}\n",
    "people_info_1.update(people_info_2)\n",
    "print(people_info_1)"
   ]
  },
  {
   "cell_type": "markdown",
   "metadata": {},
   "source": []
  }
 ],
 "metadata": {
  "kernelspec": {
   "display_name": "Python 3",
   "language": "python",
   "name": "python3"
  },
  "language_info": {
   "codemirror_mode": {
    "name": "ipython",
    "version": 3
   },
   "file_extension": ".py",
   "mimetype": "text/x-python",
   "name": "python",
   "nbconvert_exporter": "python",
   "pygments_lexer": "ipython3",
   "version": "3.8.3"
  }
 },
 "nbformat": 4,
 "nbformat_minor": 4
}
