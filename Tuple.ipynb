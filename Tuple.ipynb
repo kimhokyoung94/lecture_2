{
 "cells": [
  {
   "cell_type": "code",
   "execution_count": 4,
   "metadata": {},
   "outputs": [
    {
     "name": "stdout",
     "output_type": "stream",
     "text": [
      "2\n",
      "(1, 2, 3, 4)\n",
      "(2, 3, 4)\n"
     ]
    }
   ],
   "source": [
    "tuple_data_1 = (1,2,3,4)\n",
    "print(tuple_data_1[1])\n",
    "print(tuple_data_1[:])\n",
    "print(tuple_data_1[1:])"
   ]
  },
  {
   "cell_type": "code",
   "execution_count": 9,
   "metadata": {},
   "outputs": [
    {
     "data": {
      "text/plain": [
       "3"
      ]
     },
     "execution_count": 9,
     "metadata": {},
     "output_type": "execute_result"
    }
   ],
   "source": [
    "tuple_data_1 = (1,2,2,3,3,3,4)\n",
    "tuple_data_1.count(3)"
   ]
  },
  {
   "cell_type": "code",
   "execution_count": 10,
   "metadata": {},
   "outputs": [
    {
     "name": "stdout",
     "output_type": "stream",
     "text": [
      "(1, 2, 2, 3, 3, 3, 4, 2, 2, 2, 5, 7, 9, 10)\n"
     ]
    }
   ],
   "source": [
    "tuple_data_1 = (1,2,2,3,3,3,4)\n",
    "tuple_data_2 = (2,2,2,5,7,9,10)\n",
    "tuple_data_3 = tuple_data_1+tuple_data_2\n",
    "print(tuple_data_3)"
   ]
  },
  {
   "cell_type": "code",
   "execution_count": 17,
   "metadata": {},
   "outputs": [
    {
     "name": "stdout",
     "output_type": "stream",
     "text": [
      "(1, 2, 2, 3, 3, 3, 4, 2, 2, 2, 5, 7, 9, 10)\n",
      "9\n"
     ]
    }
   ],
   "source": [
    "tuple_data_1 = (1,2,2,3,3,3,4)\n",
    "tuple_data_2 = (2,2,2,5,7,9,10)\n",
    "tuple_data_3 = tuple_data_1+tuple_data_2\n",
    "print(tuple_data_3)\n",
    "tuple_data_4 = tuple_data_1[2]+tuple_data_2[4]\n",
    "print(tuple_data_4)"
   ]
  },
  {
   "cell_type": "code",
   "execution_count": null,
   "metadata": {},
   "outputs": [],
   "source": []
  }
 ],
 "metadata": {
  "kernelspec": {
   "display_name": "Python 3",
   "language": "python",
   "name": "python3"
  },
  "language_info": {
   "codemirror_mode": {
    "name": "ipython",
    "version": 3
   },
   "file_extension": ".py",
   "mimetype": "text/x-python",
   "name": "python",
   "nbconvert_exporter": "python",
   "pygments_lexer": "ipython3",
   "version": "3.8.3"
  }
 },
 "nbformat": 4,
 "nbformat_minor": 4
}
